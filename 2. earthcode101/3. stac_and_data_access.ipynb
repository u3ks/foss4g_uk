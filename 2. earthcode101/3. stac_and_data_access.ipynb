{
 "cells": [
  {
   "cell_type": "markdown",
   "id": "33b756e0",
   "metadata": {},
   "source": [
    "---\n",
    "title: STAC and Data Access\n",
    "subtitle: D.03.10 HANDS-ON TRAINING - EarthCODE 101 Hands-On Workshop - Example showing how to access data on the EarthCODE Open Science Catalog and working with the Pangeo ecosystem on EDC\n",
    "authors:\n",
    "  - name: Deyan Samardzhiev\n",
    "    github: sunnydean\n",
    "    orcid: 0009-0003-3803-8522\n",
    "    affiliations:\n",
    "      - id: Lampata UK\n",
    "        institution: Lampata UK\n",
    "reviewers:\n",
    "  - name: Anne Fouilloux\n",
    "    orcid: 0000-0002-1784-2920\n",
    "    github: annefou\n",
    "    affiliations:\n",
    "      - id: Simula Research Laboratory\n",
    "        institution: Simula Research Laboratory\n",
    "        ror: 00vn06n10\n",
    "date: 2025-06-01\n",
    "thumbnail: https://raw.githubusercontent.com/ESA-EarthCODE/documentation/refs/heads/main/pages/public/img/EarthCODE_kv_transparent.png\n",
    "keywords: [\"earthcode\", \"pangeo\", \"stac\", \"xarray\", \"earth observation\", \"remote sensing\"]\n",
    "tags: [\"pangeo\"]\n",
    "releaseDate: 2025-06-01\n",
    "datePublished: 2025-06-01\n",
    "dateModified: 2025-06-01\n",
    "banner: ../static/PANGEO.png\n",
    "github: https://github.com/sunnydean/LPS25_Pangeo_x_EarthCODE_Workshop\n",
    "license: MIT\n",
    "---"
   ]
  },
  {
   "cell_type": "code",
   "execution_count": null,
   "id": "a05e3267",
   "metadata": {
    "vscode": {
     "languageId": "plaintext"
    }
   },
   "outputs": [],
   "source": [
    "from pystac.extensions.storage import StorageExtension\n",
    "from datetime import datetime\n",
    "\n",
    "from pystac_client import Client as pystac_client\n",
    "from odc.stac import configure_rio, stac_load\n",
    "\n",
    "import pystac\n",
    "import xarray\n",
    "\n",
    "from datetime import timedelta\n",
    "import pandas as pd\n",
    "import shapely\n",
    "\n",
    "\n",
    "import hvplot.xarray\n"
   ]
  },
  {
   "cell_type": "code",
   "execution_count": null,
   "id": "464517c2-aa19-4772-b156-c150f78bd454",
   "metadata": {},
   "outputs": [],
   "source": [
    "import geopandas as gpd\n",
    "epsg = 4326 # our data's projection\n",
    "\n",
    "gdf = gpd.read_file(\"../aoi/feature.geojson\")\n",
    "gdf = gdf.set_crs(epsg=epsg)\n",
    "gdf.explore()"
   ]
  },
  {
   "cell_type": "markdown",
   "id": "6c87097e-5dae-4268-a142-b07fe2e7fa0d",
   "metadata": {},
   "source": [
    "## What is STAC\n",
    "\n",
    "The SpatioTemporal Asset Catalog (STAC) specification was designed to establish a standard, unified language to talk about geospatial data, allowing it to be more easily searchable and queryable.\n",
    "\n",
    "STAC has been designed to be simple, flexible, and extensible. STAC is a network of JSON files that reference other JSON files, with each JSON file adhering to a specific core specification depending on which STAC component it is describing. This core JSON format can also be customized to fit differing needs, making the STAC specification highly flexible and adaptable.\n",
    "\n",
    "Therefore, if the STAC specification seems 'light', that is because it is light-- by design. Through this flexibility, different domains and tools can easily utilize the STAC specification and make it their own.\n",
    "\n",
    "The Extensions section of the spec is where the community collaborates on more detail about specific data types and new functionality.\n",
    "\n",
    "### What is a SpatioTemporal Asset\n",
    "\n",
    "A SpatioTemporal Asset is any file that represents information about the Earth captured in a certain place and at a particular time. Examples include spatiotemporal data derived from imagery (from satellites, airplanes, and drones), Synthetic Aperture Radar (SAR), point clouds (from LiDAR, structure from motion, etc.), data cubes, or full-motion video, or vector files, etc . The key is that the GeoJSON is not the actual 'thing', but instead references files and serves as an index to the STAC Assets.\n",
    "\n",
    "\n"
   ]
  },
  {
   "cell_type": "markdown",
   "id": "328b498a-0126-4e04-93f7-db222a54d347",
   "metadata": {},
   "source": [
    "# STAC Components\n",
    "There are three component specifications that together make up the core SpatioTemporal Asset Catalog specification. These components are:\n",
    "\n",
    "1. Item - A STAC Item is the foundational building block of STAC. It is a GeoJSON feature supplemented with additional metadata that enables clients to traverse through catalogs. Since an item is a GeoJSON, it can be easily read by any modern GIS or geospatial library. One item can describe one or more SpatioTemporal Asset(s). For example, a common practice of using STAC for imagery is that each band in a scene is its own STAC Asset and there is one STAC Item to represent all the bands in a single scene.\n",
    "\n",
    "2. Catalog - A Catalog is usually the starting point for navigating a STAC. A catalog.json file contains links to some combination of other STAC Catalogs, Collections, and/or Items. We can think of it like a directory tree on a computer.\n",
    "\n",
    "\n",
    "3. Collection - A STAC Collection builds upon the STAC Catalog specification to include additional metadata about a set of items that exist as part of the collection. It extends the parent catalog by adding additional fields to enable the description of information like the spatial and temporal extent of the data, the license, keywords, providers, etc. Therefore, it can easily be extended for additional collection-level metadata.\n",
    "\n",
    "Each component can be used alone, but they work best in concert with one another.\n",
    "\n",
    "![stac](../static/stacsetup.png)\n",
    "\n",
    "A STAC Item represents one or more spatiotemporal assets as GeoJSON so that it can be easily searched. The STAC Catalog specification provides structural elements to group STAC Items and Collections. STAC Collections are catalogs that add more required metadata and describe a group of related items. Now, let's dive into each one of these components a bit more in-depth.\n",
    "\n",
    "The STAC API specification builds on top of that core and allows us to do dynamic queries over our collections."
   ]
  },
  {
   "cell_type": "markdown",
   "id": "838bc802-d3e4-4af6-9162-d48b8993c3fd",
   "metadata": {},
   "source": [
    "# Accessing the EarthCODE Catalog\n",
    "\n",
    "This section introduces [STAC](https://stacspec.org/), the SpatioTemporal Asset Catalog. STAC provides a standardized way to structure metadata about spatialotemporal data. The STAC community are building APIs and tools on top of this structure to make working with spatiotemporal data easier.\n",
    "\n",
    "\n",
    "Users of STAC will interact most often with Collections and Items (there's also Catalogs, which group together collections). A Collection is just a collection of items, plus some additional metadata like the license and summaries of what's available on each item. You can view available collections on the EarthCODE catalog with\n",
    "\n",
    "\n"
   ]
  },
  {
   "cell_type": "markdown",
   "id": "9509d1c9-fc0f-4b9d-a33d-ce43dcfc549e",
   "metadata": {},
   "source": [
    "## Open Science Catalog\n",
    "The [**Open Science Data Catalog**](https://opensciencedata.esa.int/) is a publicly accessible platform that enables anyone—whether or not they have a GitHub account—to **discover and access Earth Observation research**. It provides a transparent and structured way to explore the latest results from EO projects by organizing metadata in a consistent and harmonized format.\n",
    "\n",
    "Built on the open-source **STAC Browser**, the catalog allows users to browse and explore interlinked elements such as **themes, variables, EO missions, projects, products, workflows, and experiments**, all described using **STAC-compliant JSON files**."
   ]
  },
  {
   "cell_type": "code",
   "execution_count": null,
   "id": "bc7dea7a-38e5-4c52-a4e5-bae5fced5637",
   "metadata": {},
   "outputs": [],
   "source": [
    "url = \"https://raw.githubusercontent.com/ESA-EarthCODE/open-science-catalog-metadata/main/catalog.json\"\n",
    "cat = pystac.Catalog.from_file(url)\n",
    "cat"
   ]
  },
  {
   "cell_type": "markdown",
   "id": "14dc0bac-7f54-4d66-a5b3-18f6648ab778",
   "metadata": {},
   "source": [
    "Now let's search and access the same data we were just looking at, SeasFire:\n",
    "\n",
    "[https://opensciencedata.esa.int/products/seasfire-cube/collection](https://opensciencedata.esa.int/products/seasfire-cube/collection)\n",
    "\n",
    "\n",
    "In the examples we've seen so far, we've just been given a STAC item. How do you find the items you want in the first place? That's where a STAC API comes in.\n",
    "\n",
    "A STAC API is some web service that accepts queries and returns STAC objects. The ability to handle queries is what differentiates a STAC API from a static STAC catalog, where items are just present on some file system.\n",
    "\n"
   ]
  },
  {
   "cell_type": "code",
   "execution_count": null,
   "id": "c38bc5f2-b50b-431f-a643-4d0441395645",
   "metadata": {},
   "outputs": [],
   "source": [
    "print(cat.title, cat.description)"
   ]
  },
  {
   "cell_type": "code",
   "execution_count": null,
   "id": "c98cd59e-6982-4358-b94d-1cd56d0aac8c",
   "metadata": {},
   "outputs": [],
   "source": [
    "osc_products = cat.get_child(\"products\")\n",
    "osc_products"
   ]
  },
  {
   "cell_type": "code",
   "execution_count": null,
   "id": "18cb5212-a1ab-44ba-9fab-a6243d635fc4",
   "metadata": {},
   "outputs": [],
   "source": [
    "search_f = lambda q, coll: q in f\"{coll.id or ''} {coll.title or ''} {coll.description or ''}\".lower()\n",
    "fire_colls = [c for c in osc_products.get_all_collections() if search_f('fire',c)]\n",
    "fire_colls"
   ]
  },
  {
   "cell_type": "code",
   "execution_count": null,
   "id": "cc3444c4-00e4-412e-bb8b-9bc679031062",
   "metadata": {},
   "outputs": [],
   "source": [
    "seas_fire_osc_product = osc_products.get_child('seasfire-cube')\n",
    "seas_fire_osc_product"
   ]
  },
  {
   "cell_type": "code",
   "execution_count": null,
   "id": "796520bb-0c2d-41c5-baa8-eaa4fd2216c1",
   "metadata": {},
   "outputs": [],
   "source": [
    "seas_fire_item = next(seas_fire_osc_product.get_child('seasfire-cube').get_items())\n",
    "seas_fire_item"
   ]
  },
  {
   "cell_type": "markdown",
   "id": "24dca668-0ed9-4fa9-9fd5-fb36505012bd",
   "metadata": {},
   "source": [
    "You can use the same methods on a variety of catalogs that expose different query parameters. STAC items can either be an API or static assets. We just explored static assets, now we will quickly demo using STAC API."
   ]
  },
  {
   "cell_type": "code",
   "execution_count": null,
   "id": "86bd7f3b-6c94-42c3-8c3e-9a50adcba880",
   "metadata": {},
   "outputs": [],
   "source": [
    "catalog = pystac_client.open(\"https://earth-search.aws.element84.com/v1\")\n",
    "\n",
    "search = catalog.search(\n",
    "    collections=[\"sentinel-2-l2a\"], \n",
    "    bbox=[-6, 50, 2, 56],                      \n",
    "    datetime=\"2024-06-01/2024-06-30\",         \n",
    "    query={\"eo:cloud_cover\":\"<10\"}               \n",
    ")\n",
    "print(f\"{search.matched()} items in June with <10 % cloud\")\n"
   ]
  },
  {
   "cell_type": "markdown",
   "id": "01370c53-d676-412f-bd82-20e745535b9a",
   "metadata": {},
   "source": [
    "Note that the collection points to another collection, which contains the actual data. The EarthCODE STAC extension describes some metadata that enrich the STAC collection https://github.com/stac-extensions/osc.\n",
    "\n",
    "![img.png](../static/EarthCODE-STAC.png)"
   ]
  },
  {
   "cell_type": "markdown",
   "id": "c496fc6e-c79a-41c6-9dc7-3fb63dd2134f",
   "metadata": {},
   "source": [
    "# Accessing Data from EarthCODE\n",
    "\n",
    "Now we will load the actual data from the STAC item we've found...\n",
    "\n",
    ">The SeasFire Cube is a scientific datacube for seasonal fire forecasting around the globe. It has been created for the SeasFire project, that adresses 'Earth System Deep Learning for Seasonal Fire Forecasting' and is funded by the European Space Agency (ESA)  in the context of ESA Future EO-1 Science for Society Call. It contains almost 20 years of data (2001-2021) in an 8-days time resolution and 0.25 degrees grid resolution. It has a diverse range of seasonal fire drivers. It expands from atmospheric and climatological ones to vegetation variables, socioeconomic and the target variables related to wildfires such as burned areas, fire radiative power, and wildfire-related CO2 emissions."
   ]
  },
  {
   "cell_type": "code",
   "execution_count": null,
   "id": "6b8347d6-b8e6-414c-99b1-cf14a8154381",
   "metadata": {},
   "outputs": [],
   "source": [
    "seas_fire_item\n",
    "# https://s3.waw4-1.cloudferro.com/EarthCODE/Catalogs/seasfire/seasfire-cube_v0.4/seasfire-cube-v.0.4/seasfire-cube-v.0.4.json"
   ]
  },
  {
   "cell_type": "markdown",
   "id": "459494e4-e302-4851-ae1d-646098dd73cf",
   "metadata": {},
   "source": [
    "## Items and Assets\n",
    "STAC is a metadata standard. It doesn't really deal with data files directly. Instead, it links to the data files under the \"assets\" property.\n",
    "\n",
    "As described in **https://guide.cloudnativegeo.org/** in this case the STAC catalog contains a collection for each Zarr store and there are collection-level assets that point to the location of the Zarr store. There are no items at all in this setup.\n",
    "\n",
    "In this scenario any STAC metadata exists purely for discovery and cannot be used for filtering or subsetting (see Future Work for more on that). To search the STAC catalog to find collections of interest you will use the Collection Search API Extension. Depending on the level of metadata that has been provided in the STAC catalog you can search by the name of the collection and possibly by the variables – exposed via the Data Cube Extension.\n",
    "\n",
    "### Read straight to xarray\n",
    "For a collection of interest, the best approach for accessing the data is to construct the lazily-loaded data cube in xarray (or an xarray.DataTree if the Zarr store has more than one group) and filter from there.\n",
    "\n",
    "To do this you can use the zarr backend directly or you can use the stac backend to streamline even more. The stac backend is mostly useful if the STAC collection uses the xarray extension.\n",
    "\n",
    "Constructing the lazy data cube is likely to be very fast if there is a consolidated metadata file OR the data is in Zarr-3 and the Zarr metadata fetch is highly parallelized (read more).\n",
    "\n"
   ]
  },
  {
   "cell_type": "markdown",
   "id": "49cd1235-f038-4cf4-b71d-90f5bc03535d",
   "metadata": {},
   "source": [
    "# Loading and Fetching Data Cube - Xarray"
   ]
  },
  {
   "cell_type": "code",
   "execution_count": null,
   "id": "b484f336-0aa8-4c4a-9709-dbaed10244dd",
   "metadata": {
    "scrolled": true
   },
   "outputs": [],
   "source": [
    "http_url = seas_fire_item.assets[\"data\"].href.replace(\n",
    "    \"s3://\",\n",
    "    f\"{seas_fire_item.properties['storage:schemes'][seas_fire_item.assets['data'].extra_fields['storage:refs'][0]]['platform'].rstrip('/')}/\",\n",
    ")\n",
    "\n",
    "ds = xarray.open_dataset(\n",
    "\thttp_url,\n",
    "\tengine='zarr',\n",
    "    chunks={},\n",
    "\tconsolidated=True\n",
    "\t# storage_options = {'token': 'anon'}\n",
    ")\n",
    "ds"
   ]
  },
  {
   "cell_type": "code",
   "execution_count": null,
   "id": "9d5ad6a6-728f-4a09-879e-3ecb11da6c46",
   "metadata": {},
   "outputs": [],
   "source": [
    "gwis = ds.gwis_ba\n",
    "gwis"
   ]
  },
  {
   "cell_type": "code",
   "execution_count": null,
   "id": "4c0ec364-011d-488c-9106-ec612d417917",
   "metadata": {},
   "outputs": [],
   "source": [
    "\n",
    "\n",
    "min_lon, min_lat, max_lon, max_lat = gdf.total_bounds\n",
    "\n",
    "# find the nearest points on our grid\n",
    "lat_start = gwis.latitude.sel(latitude=max_lat, method=\"nearest\").item()\n",
    "lat_stop  = gwis.latitude.sel(latitude=min_lat, method=\"nearest\").item()\n",
    "lon_start = gwis.longitude.sel(longitude=min_lon, method=\"nearest\").item()\n",
    "lon_stop  = gwis.longitude.sel(longitude=max_lon, method=\"nearest\").item()\n",
    "\n",
    "lat_slice = slice(lat_start, lat_stop)\n",
    "lon_slice = slice(lon_start, lon_stop)\n",
    "\n",
    "bbox=[lon_stop , lat_stop , lon_start, lat_start]\n",
    "bbox"
   ]
  },
  {
   "cell_type": "code",
   "execution_count": null,
   "id": "2fe41ed3-f2ec-4ad4-a17e-614b2b4cefcf",
   "metadata": {},
   "outputs": [],
   "source": [
    "time_oi='2018-08-01'\n",
    "gwis_aoi = gwis.sel(latitude=lat_slice,longitude=lon_slice).sel(time=time_oi,method=\"nearest\")\n",
    "gwis_aoi.plot()\n"
   ]
  },
  {
   "cell_type": "markdown",
   "id": "60454a89-a2c2-4f9b-81bd-b47973c91181",
   "metadata": {},
   "source": [
    "## Another Example...\n",
    "We will now do something a bit more complicated and fetch data using pystac to search through the earth-search.aws.element84.com/v1 STAC API endpoint. As mentioned in the [STAC and Data Access guide](../earthcode101/stac_and_data_access.ipynb), the STAC API provides us with endpoints to query STAC collections.\n",
    "\n",
    "There is an ecosystem of libraries that implement STAC standards (pystac, odc-stac, stackstac, etc..) that allow us to analyse, load and use data described in STAC. We will briefly explore in the following cells below.\n",
    "\n",
    "As a first step, we will open a catalog with the pystac library: https://earth-search.aws.element84.com/v1 This catalog contains STAC collections of various datasets (such as sentinel-1 and sentinel-2 data) in cloud optimised formats (COGs in this case) - see https://earth-search.aws.element84.com. for more details. With these formats we are able to use the assets using cloud-native access patterns (see https://guide.cloudnativegeo.org/cookbooks/ for more details).\n",
    "\n",
    "Note that a STAC endpoint like the one below, only returns STAC items and not the actual data. The STAC items returned have Assets defined which link to the actual data (and provide metadata)."
   ]
  },
  {
   "cell_type": "code",
   "execution_count": null,
   "id": "4e529196-ede2-4a62-be45-4ded7c991dc1",
   "metadata": {},
   "outputs": [],
   "source": [
    "import pandas as pd\n",
    "\n",
    "fire_date_t = pd.to_datetime(time_oi) # get the date of the forest fire and a the dates before and after it\n",
    "week_before = (fire_date_t - timedelta(days=7))\n",
    "week_after = (fire_date_t + timedelta(days=7))"
   ]
  },
  {
   "cell_type": "code",
   "execution_count": null,
   "id": "e0673fa2-d7ee-4100-a36f-52c9ecf0c299",
   "metadata": {},
   "outputs": [],
   "source": [
    "print(week_before.date(), \"---\" , week_after.date())"
   ]
  },
  {
   "cell_type": "markdown",
   "id": "29c2b31d-87ad-4cec-b836-0db3f26b1211",
   "metadata": {},
   "source": [
    "## Fetching the data\n",
    "We will now fetch the data using pystac to search through the earth-search.aws.element84.com/v1 STAC API endpoint. As mentioned in the [STAC and Data Access guide](../earthcode101/stac_and_data_access.ipynb), the STAC API provides us with endpoints to query STAC collections.\n",
    "\n",
    "There is an ecosystem of libraries that implement STAC standards (pystac, odc-stac, stackstac, etc..) that allow us to analyse, load and use data described in STAC. We will briefly explore in the following cells below.\n",
    "\n",
    "As a first step, we will open a catalog with the pystac library: https://earth-search.aws.element84.com/v1 This catalog contains STAC collections of various datasets (such as sentinel-1 and sentinel-2 data) in cloud optimised formats (COGs in this case) - see https://earth-search.aws.element84.com. for more details. With these formats we are able to use the assets using cloud-native access patterns (see https://guide.cloudnativegeo.org/cookbooks/ for more details).\n",
    "\n",
    "Note that a STAC endpoint like the one below, only returns STAC items and not the actual data. The STAC items returned have Assets defined which link to the actual data (and provide metadata)."
   ]
  },
  {
   "cell_type": "code",
   "execution_count": null,
   "id": "6b9851ce-752e-48e8-92bd-aa16b9fb3e1e",
   "metadata": {},
   "outputs": [],
   "source": [
    "catalog = pystac_client.open(\"https://earth-search.aws.element84.com/v1\")\n",
    "chunk={} # <-- use dask\n",
    "res=10 # 10m resolution"
   ]
  },
  {
   "cell_type": "markdown",
   "id": "3a30430a-ae18-4aa4-ab5a-a958b92892d4",
   "metadata": {},
   "source": [
    "In the next step we will do two things:\n",
    "\n",
    "**1.** Search for multiple cloudless sentinel-2 satellite images within a month of our pre-fire (week_before) date. The STAC API allows us to do a couple of things in a simple API call:\n",
    "- We can define an arrea of interest (bbox) and search for items that cover this region\n",
    "- We can subset for the time of interest as well (datetime)\n",
    "- We can define custom querries over implemented STAC extensions. For example, the Sentinel STAC collection we are querrying implements the eo STAC extension, and defines cloud_cover - this allows us to search for quality assets with minimal cloudy pixels\n",
    "\n",
    "This will return the relevant STAC items - which contain assets that point to our data of interest. We now need to load this data into a dataarray to start analysing it.\n",
    "\n",
    "**2.** Note that in the above step, we only have items that point to some data - this data can be tiff, zarr, netcdf, COG, or other SpatioTemporal asset data. In our case, the element84 endpoint points to the data collection of  *https://registry.opendata.aws/sentinel-2-l2a-cogs/* - the format of our data is cloud-optimized GeoTiff. A cloud-friendly format such as this enables us cloud-native access patterns, such as easily fetching only our area of interest (as opposed to several tiff files and manually subsetting them after downloading).\n",
    "\n",
    "Libraries such as odc-stac integrate with STAC standards and allow us to load data as well as leveraging the cloud-optimised formats. For example, in the cell below we define how we want to transform/load our data by:\n",
    "- Passing the STAC item (or multiple items) we want to load\n",
    "- defining a particular chunk size (the passed {} asks for the data to be automatically chunked as it is originally);\n",
    "- We can request only the spectral bands of interest, in this case nir and swir22, to reduce the amount of data that we fetch.\n",
    "- We can define a resolution to retrieve the data at, note that this will also resample automatically. For example the nir band data has a 10m resolution, but the swir22 - 20m resolution.\n",
    "- There are multiple other options as well, such as defining in which projection we want our data in. More information can be found at: https://odc-stac.readthedocs.io/en/latest/_api/odc.stac.load.html\n"
   ]
  },
  {
   "cell_type": "code",
   "execution_count": null,
   "id": "6b6e9027-7005-4018-8ca3-4a16ce45a0cd",
   "metadata": {},
   "outputs": [],
   "source": [
    "# STAC search for relevant items\n",
    "week_before_start = (week_before - timedelta(days=30))\n",
    "time_range_start = str(week_before_start.date()) + \"/\" + str(week_before.date())\n",
    "\n",
    "query1 = catalog.search(\n",
    "    collections=[\"sentinel-2-l2a\"], datetime=time_range_start, limit=100,\n",
    "    bbox=bbox, query={\"eo:cloud_cover\": {\"lt\": 20}}\n",
    ")\n",
    "\n",
    "items = list(query1.items())\n",
    "print(f\"Found: {len(items):d} datasets\")"
   ]
  },
  {
   "cell_type": "code",
   "execution_count": null,
   "id": "004b1304-9332-46b4-9047-40163278fc73",
   "metadata": {},
   "outputs": [],
   "source": [
    "# plot all the STAC assets\n",
    "poly_pre = gpd.GeoSeries([shapely.Polygon(item.geometry['coordinates'][0]) for item in items], name='geometry', crs='epsg:4236')\n",
    "poly_pre.explore()"
   ]
  },
  {
   "cell_type": "code",
   "execution_count": null,
   "id": "ebb21094-6db3-426f-90c6-8a664e9a68c6",
   "metadata": {},
   "outputs": [],
   "source": [
    "prefire_ds = stac_load(\n",
    "    items,\n",
    "    bands=(\"nir\", \"swir22\"),\n",
    "    chunks=chunk,  # <-- use Dask\n",
    "    resolution=res,\n",
    "    crs=\"EPSG:32629\",\n",
    "    groupby=\"datetime\",\n",
    "    bbox=bbox,\n",
    ")\n",
    "prefire_ds = prefire_ds.mean(dim=\"time\")\n",
    "prefire_ds"
   ]
  },
  {
   "cell_type": "markdown",
   "id": "cc90ebf3-7179-484c-98d0-bb5fb7f2d715",
   "metadata": {},
   "source": [
    "We now do the same for the month after.."
   ]
  },
  {
   "cell_type": "code",
   "execution_count": null,
   "id": "f8e63253-7db3-41d6-934e-cdeeb673d46a",
   "metadata": {},
   "outputs": [],
   "source": [
    "week_after_end = (week_after + timedelta(days=30))\n",
    "time_range_end = str(week_after.date()) + \"/\" + str(week_after_end.date())\n",
    "\n",
    "query2 = catalog.search(\n",
    "    collections=[\"sentinel-2-l2a\"], datetime=time_range_end, limit=100,\n",
    "    bbox=bbox, query={\"eo:cloud_cover\": {\"lt\": 20}}\n",
    ")\n",
    "\n",
    "items = list(query2.items())\n",
    "print(f\"Found: {len(items):d} datasets\")"
   ]
  },
  {
   "cell_type": "code",
   "execution_count": null,
   "id": "33a5902f-06e2-429d-8cef-d8673aa25433",
   "metadata": {},
   "outputs": [],
   "source": [
    "poly_post = gpd.GeoSeries([shapely.Polygon(item.geometry['coordinates'][0]) for item in items], name='geometry', crs='epsg:4236')\n",
    "poly_post.explore()"
   ]
  },
  {
   "cell_type": "code",
   "execution_count": null,
   "id": "317eac9a-77e7-439a-89b7-26634a669340",
   "metadata": {},
   "outputs": [],
   "source": [
    "postfire_ds = stac_load(\n",
    "    items,\n",
    "    bands=(\"nir\", \"swir22\"),\n",
    "    chunks=chunk,  # <-- use Dask\n",
    "    resolution=res,\n",
    "    crs=\"EPSG:32629\",\n",
    "    groupby=\"datetime\",\n",
    "    bbox=bbox,\n",
    ")\n",
    "postfire_ds = postfire_ds.mean(dim=\"time\")\n",
    "postfire_ds"
   ]
  },
  {
   "cell_type": "code",
   "execution_count": null,
   "id": "2660fb0b-a23d-4a9d-bfff-860cf77d6e77",
   "metadata": {},
   "outputs": [],
   "source": [
    "max_poly_pre = poly_pre[[poly_pre.to_crs(epsg=3035).area.argmax()]]\n",
    "max_poly_post = poly_post[[poly_post.to_crs(epsg=3035).area.argmax()]]"
   ]
  },
  {
   "cell_type": "code",
   "execution_count": null,
   "id": "dafc0024-c36f-4e1b-a2bd-74038c64b3a7",
   "metadata": {},
   "outputs": [],
   "source": [
    "# note we're reprojecting to calculate area, as Geometry is in a geographic CRS. Results from 'area' are incorrect since geopandas doesn't calc spherical geometry!\n",
    "poly_pre.area"
   ]
  },
  {
   "cell_type": "code",
   "execution_count": null,
   "id": "1e206775-1776-4379-b1ce-f1a72b7c6042",
   "metadata": {},
   "outputs": [],
   "source": [
    "m = max_poly_pre.explore( )\n",
    "m = max_poly_post.explore(m=m, color='r')\n",
    "m"
   ]
  },
  {
   "cell_type": "markdown",
   "id": "e34889a0-3089-4a77-bef2-1a951129e615",
   "metadata": {},
   "source": [
    "> **Note:** The above STAC API query might return assets that intersect the region but do not fully cover it. I.e. if we fetched only one asset for each period with the above query they could potentially point to different regions (as there would be data missing). Although not relevant in this example, as all assets from both pre and after overlap, this will be a problem if not checked (as you'd be analysing different regions). In this example we visually inspect the overlap between assets and further take the mean of all the assets to get better quality pixels across time. Rerun the same example with cloud_cover = 0.2 to see where you might get some problem code!"
   ]
  },
  {
   "cell_type": "code",
   "execution_count": null,
   "id": "96c54bc2-1caf-4db5-8853-f26f836d713e",
   "metadata": {},
   "outputs": [],
   "source": []
  },
  {
   "cell_type": "code",
   "execution_count": null,
   "id": "fc536a21-78ce-4e29-af3a-3ca3519e6f34",
   "metadata": {},
   "outputs": [],
   "source": []
  }
 ],
 "metadata": {
  "kernelspec": {
   "display_name": "Python [conda env:micromamba-pangeo_earthcode]",
   "language": "python",
   "name": "conda-env-micromamba-pangeo_earthcode-py"
  },
  "language_info": {
   "codemirror_mode": {
    "name": "ipython",
    "version": 3
   },
   "file_extension": ".py",
   "mimetype": "text/x-python",
   "name": "python",
   "nbconvert_exporter": "python",
   "pygments_lexer": "ipython3",
   "version": "3.13.3"
  }
 },
 "nbformat": 4,
 "nbformat_minor": 5
}
