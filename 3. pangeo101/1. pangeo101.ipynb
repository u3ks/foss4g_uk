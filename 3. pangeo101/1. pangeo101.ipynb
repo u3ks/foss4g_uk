{
 "cells": [
  {
   "cell_type": "code",
   "execution_count": null,
   "id": "bbe929e6-1553-4a0b-9f0d-f4bb21168ff7",
   "metadata": {},
   "outputs": [],
   "source": [
    "%%html\n",
    "<iframe src=\"https://docs.google.com/presentation/d/1MvpJBEvAoIz4lhTnq9J2Bn1ziEuv0VcjM-0o0z2l_6g/embed?start=false&loop=false&delayms=3000\" frameborder=\"0\" width=\"960\" height=\"569\" allowfullscreen=\"true\" mozallowfullscreen=\"true\" webkitallowfullscreen=\"true\"></iframe>\n"
   ]
  },
  {
   "cell_type": "code",
   "execution_count": null,
   "id": "37e7ac8d-236a-4eb5-8b61-e140ef069ff2",
   "metadata": {},
   "outputs": [],
   "source": []
  }
 ],
 "metadata": {
  "kernelspec": {
   "display_name": "Python [conda env:micromamba-pangeo] *",
   "language": "python",
   "name": "conda-env-micromamba-pangeo-py"
  },
  "language_info": {
   "codemirror_mode": {
    "name": "ipython",
    "version": 3
   },
   "file_extension": ".py",
   "mimetype": "text/x-python",
   "name": "python",
   "nbconvert_exporter": "python",
   "pygments_lexer": "ipython3",
   "version": "3.13.3"
  }
 },
 "nbformat": 4,
 "nbformat_minor": 5
}
