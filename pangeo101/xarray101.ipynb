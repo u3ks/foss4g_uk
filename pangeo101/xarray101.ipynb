{
 "cells": [
  {
   "cell_type": "markdown",
   "id": "8a83d8ea-41fa-4128-a879-1f20e24912b0",
   "metadata": {},
   "source": [
    "---\n",
    "title: Xarray 101\n",
    "subtitle: D.03.10 HANDS-ON TRAINING - EarthCODE 101 Hands-On Workshop - Example showing how to access data on the EarthCODE Open Science Catalog and working with the Pangeo ecosystem on EDC\n",
    "authors:\n",
    "  - name: Deyan Samardzhiev\n",
    "    github: sunnydean\n",
    "    orcid: 0009-0003-3803-8522\n",
    "    affiliations:\n",
    "      - id: Lampata UK\n",
    "        institution: Lampata UK\n",
    "reviewers:\n",
    "  - name: Anne Fouilloux\n",
    "    orcid: 0000-0002-1784-2920\n",
    "    github: annefou\n",
    "    affiliations:\n",
    "      - id: Simula Research Laboratory\n",
    "        institution: Simula Research Laboratory\n",
    "        ror: 00vn06n10\n",
    "date: 2025-06-01\n",
    "thumbnail: https://raw.githubusercontent.com/ESA-EarthCODE/documentation/refs/heads/main/pages/public/img/EarthCODE_kv_transparent.png\n",
    "keywords: [\"earthcode\", \"pangeo\", \"stac\", \"xarray\", \"earth observation\", \"remote sensing\"]\n",
    "tags: [\"pangeo\"]\n",
    "releaseDate: 2025-06-01\n",
    "datePublished: 2025-06-01\n",
    "dateModified: 2025-06-01\n",
    "banner: ../static/PANGEO.png\n",
    "github: https://github.com/sunnydean/LPS25_Pangeo_x_EarthCODE_Workshop\n",
    "license: MIT\n",
    "---"
   ]
  },
  {
   "cell_type": "code",
   "execution_count": null,
   "id": "cd472037-38e4-4333-9dbe-8a00498106f3",
   "metadata": {},
   "outputs": [],
   "source": [
    "from pystac.extensions.storage import StorageExtension\n",
    "from datetime import datetime\n",
    "from pystac_client import Client as pystac_client\n",
    "from odc.stac import configure_rio, stac_load\n",
    "import matplotlib.pyplot as plt\n",
    "\n",
    "import xarray"
   ]
  },
  {
   "cell_type": "markdown",
   "id": "d16a693e-0500-4577-887a-256dc1d6a401",
   "metadata": {},
   "source": [
    "## What is xarray?\n",
    "\n",
    "Xarray introduces labels in the form of dimensions, coordinates and attributes on top of raw NumPy-like multi-dimensional arrays, which allows for a more intuitive, more concise, and less error-prone developer experience.\n",
    "\n",
    "### How is xarray structured?\n",
    "\n",
    "Xarray has two core data structures, which build upon and extend the core strengths of NumPy and Pandas libraries. Both data structures are fundamentally N-dimensional:\n",
    "\n",
    "- [DataArray](https://docs.xarray.dev/en/stable/generated/xarray.DataArray.html#xarray.DataArray) is the implementation of a labeled, N-dimensional array. It is an N-D generalization of a Pandas.Series. The name DataArray itself is borrowed from [Fernando Perez’s datarray project](http://fperez.org/py4science/datarray/), which prototyped a similar data structure.\n",
    "\n",
    "- [Dataset](https://docs.xarray.dev/en/stable/generated/xarray.Dataset.html#xarray.Dataset) is a multi-dimensional, in-memory array database. It is a dict-like container of DataArray objects aligned along any number of shared dimensions, and serves a similar purpose in xarray as the pandas.DataFrame.\n",
    "\n",
    "\n",
    "Data can be read from online sources, as in the example below where we loaded metadata\n",
    "\n"
   ]
  },
  {
   "cell_type": "code",
   "execution_count": null,
   "id": "6d3aca41-747b-4267-a602-cc01a48d064e",
   "metadata": {},
   "outputs": [],
   "source": [
    "http_url = \"https://s3.waw4-1.cloudferro.com/EarthCODE/OSCAssets/seasfire/seasfire_v0.4.zarr/\"\n",
    "\n",
    "ds = xarray.open_dataset(\n",
    "\thttp_url,\n",
    "\tengine='zarr',\n",
    "    chunks={},\n",
    "\tconsolidated=True\n",
    "\t# storage_options = {'token': 'anon'}\n",
    ")\n",
    "ds"
   ]
  },
  {
   "cell_type": "markdown",
   "id": "3a18e396-057c-42e7-9954-5d4ac3e070c9",
   "metadata": {},
   "source": [
    "## Accessing Coordinates and Data Variables \n",
    "DataArray, within Datasets, can be accessed through:\n",
    "- the dot notation like Dataset.NameofVariable  \n",
    "- or using square brackets, like Dataset['NameofVariable'] (NameofVariable needs to be a string so use quotes or double quotes)"
   ]
  },
  {
   "cell_type": "code",
   "execution_count": null,
   "id": "892642b3-e8a1-4a8e-8796-2a3a5c7576a8",
   "metadata": {},
   "outputs": [],
   "source": [
    "ds.latitude"
   ]
  },
  {
   "cell_type": "code",
   "execution_count": null,
   "id": "557728d1-a669-4efd-b3f8-48a612d787a3",
   "metadata": {},
   "outputs": [],
   "source": [
    "ds.lai"
   ]
  },
  {
   "cell_type": "markdown",
   "id": "38c595a0-7c4e-41ad-a6bb-0f888e9b2083",
   "metadata": {},
   "source": [
    "ds['lai'] is a one-dimensional `xarray.DataArray` with dates of type `datetime64[ns]`"
   ]
  },
  {
   "cell_type": "code",
   "execution_count": null,
   "id": "6748fb39-b191-4ba7-9b43-b98f48bdb0f6",
   "metadata": {},
   "outputs": [],
   "source": [
    "ds['lai']"
   ]
  },
  {
   "cell_type": "code",
   "execution_count": null,
   "id": "265b044b-3965-472e-af26-ecf583d46b33",
   "metadata": {},
   "outputs": [],
   "source": [
    "ds['lai'].attrs"
   ]
  },
  {
   "cell_type": "markdown",
   "id": "2d105375-3324-40c8-a568-98929e6acedb",
   "metadata": {},
   "source": [
    "### Xarray and Memory usage\n",
    "\n",
    "Once a Data Array|Set is opened, xarray loads into memory only the coordinates and all the metadata needed to describe it.\n",
    "The underlying data, the component written into the datastore, are loaded into memory as a NumPy array, only once directly accessed; once in there, it will be kept to avoid re-readings.\n",
    "This brings the fact that it is good practice to have a look to the size of the data before accessing it. A classical mistake is to try loading arrays bigger than the memory with the obvious result of killing a notebook Kernel or Python process.\n",
    "If the dataset does not fit in the available memory, then the only option will be to load it through the chunking; later on, in the tutorial 'chunking_introduction', we will introduce this concept.\n",
    "\n",
    "As the size of the data is not too big here, we can continue without any problem. But let's first have a look to the actual size and then how it impacts the memory once loaded into it."
   ]
  },
  {
   "cell_type": "code",
   "execution_count": null,
   "id": "dd591c27-9bc2-402c-960f-30c3f3a29c2f",
   "metadata": {},
   "outputs": [],
   "source": [
    "import numpy as np"
   ]
  },
  {
   "cell_type": "code",
   "execution_count": null,
   "id": "0c1f07f1-c090-4893-9798-66636670c989",
   "metadata": {},
   "outputs": [],
   "source": [
    "print(f'{np.round(ds.lai.nbytes / 1024**3, 2)} GB') # all the data are automatically loaded into memory as NumpyArray once they are accessed."
   ]
  },
  {
   "cell_type": "code",
   "execution_count": null,
   "id": "3f9f3ca2-2a85-47ec-a4cf-74e175f54060",
   "metadata": {},
   "outputs": [],
   "source": [
    "ds.lai.data"
   ]
  },
  {
   "cell_type": "markdown",
   "id": "f9c8743a-cc85-41d4-a872-46c1ebbbfaeb",
   "metadata": {},
   "source": [
    "As other datasets have dimensions named according to the more common triad lat,lon,time a renomination is needed."
   ]
  },
  {
   "cell_type": "markdown",
   "id": "ca012cc8-3df4-4cad-9ecb-85b7b1184e45",
   "metadata": {},
   "source": [
    "## Selection methods\n",
    "\n",
    "As underneath DataArrays are Numpy Array objects (that implement the standard Python x[obj] (x: array, obj: int,slice) syntax). Their data can be accessed through the same approach of numpy indexing."
   ]
  },
  {
   "cell_type": "code",
   "execution_count": null,
   "id": "8a693dae-f752-4236-8a05-04b73c4e5b27",
   "metadata": {},
   "outputs": [],
   "source": [
    "ds.lai[0,100,100].load()"
   ]
  },
  {
   "cell_type": "markdown",
   "id": "23cc3832-6de1-4933-8ce1-17335861505d",
   "metadata": {},
   "source": [
    "As it is not easy to remember the order of dimensions, Xarray really helps by making it possible to select the position using names:\n",
    "\n",
    "- `.isel` -> selection based on positional index\n",
    "- `.sel`  -> selection based on coordinate values"
   ]
  },
  {
   "cell_type": "code",
   "execution_count": null,
   "id": "aa34d42c-1bb1-46d7-b9eb-ed31316937aa",
   "metadata": {},
   "outputs": [],
   "source": [
    "ds.lai.isel(time=0, latitude=100, longitude=100)"
   ]
  },
  {
   "cell_type": "markdown",
   "id": "83dd5396-af8f-47f1-8458-19ad8a8d5cfc",
   "metadata": {},
   "source": [
    "The more common way to select a point is through the labeled coordinate using the `.sel` method.\n",
    "\n",
    "Time is easy to be used as there is a 1 to 1 correspondence with values in the index, float values are not that easy to be used and a small discrepancy can make a big difference in terms of results.\n",
    "\n",
    "\n",
    "Coordinates are always affected by precision issues; the best option to quickly get a point over the coordinates is to set the sampling method (method='') that will search for the closest point according to the specified one.\n",
    "\n",
    "Options for the method are:\n",
    "- pad / **f**fill: propagate last valid index value forward\n",
    "- backfill / **b**fill: propagate next valid index value backward\n",
    "- nearest: use nearest valid index value\n",
    "\n",
    "Another important parameter that can be set is the tolerance that specifies the distance between the requested and the target (so that abs(index\\[indexer] - target) <= tolerance) from [documentation](https://xarray.pydata.org/en/v0.17.0/generated/xarray.DataArray.sel.html#:~:text=xarray.DataArray.sel%20%C2%B6%20DataArray.sel%28indexers%3DNone%2C%20method%3DNone%2C%20tolerance%3DNone%2C%20drop%3DFalse%2C%20%2A%2Aindexers_kwargs%29%20%C2%B6,this%20method%20should%20use%20labels%20instead%20of%20integers.)."
   ]
  },
  {
   "cell_type": "code",
   "execution_count": null,
   "id": "795bad38-8fbe-4b85-84ea-7f681310e6da",
   "metadata": {},
   "outputs": [],
   "source": [
    "ds.lai.sel(time=datetime(2020, 1, 8), method='nearest')"
   ]
  },
  {
   "cell_type": "code",
   "execution_count": null,
   "id": "6a0189f9-52a3-4822-b862-94dc2906bd91",
   "metadata": {},
   "outputs": [],
   "source": [
    "ds.lai.sel(latitude=46.3, longitude=8.8, method='nearest').isel(time=0)"
   ]
  },
  {
   "cell_type": "markdown",
   "id": "ba1a9bed-351b-422b-bee3-e36b43091841",
   "metadata": {},
   "source": [
    ":::{warning}\n",
    "To select a single real value without specifying a method, you would need to specify the exact encoded value; not the one you see when printed.\n",
    ":::"
   ]
  },
  {
   "cell_type": "code",
   "execution_count": null,
   "id": "8ba127a3-bdd1-4203-bbe8-4e7d6231adf9",
   "metadata": {},
   "outputs": [],
   "source": [
    "ds.lai.isel(longitude=100).longitude.values.item()"
   ]
  },
  {
   "cell_type": "markdown",
   "id": "ceeccc3b-b518-4c3b-a559-f8342f7dddac",
   "metadata": {},
   "source": [
    "\n",
    "## Plotting\n",
    "   Plotting data can easily be obtained through matplotlib.pyplot back-end [matplotlib documentation](https://matplotlib.org/stable/index.html).\n",
    "\n",
    "As the exercise is focused on an Area Of Interest, this can be obtained through a bounding box defined with slices.\n",
    "\n"
   ]
  },
  {
   "cell_type": "markdown",
   "id": "e422ecbd-dd48-46fa-91df-3eaf743d7211",
   "metadata": {},
   "source": [
    "Plot fires"
   ]
  },
  {
   "cell_type": "code",
   "execution_count": null,
   "id": "e19e2f34-eef6-4e7a-a33b-7e36b2b299e6",
   "metadata": {},
   "outputs": [],
   "source": [
    "lai_aoi = ds.lai.sel(latitude=slice(65.5,25.5), longitude=slice(-20.5,20.5))\n",
    "lai_aoi.sel(time=datetime(2020,6,23), method='nearest').plot()\n"
   ]
  },
  {
   "cell_type": "markdown",
   "id": "22013000-996e-48d3-ab55-b9a412ef0067",
   "metadata": {
    "jp-MarkdownHeadingCollapsed": true
   },
   "source": [
    ":::{tip}\n",
    "Have you noticed that latitudes are selected from the largest to the smallest values e.g. `46.5`, `44.5` while longitudes are selected from the smallest to the largest value e.g. `8.5`,`11.5`?\n",
    "**The reason is that you need to use the same order as the corresponding DataArray**.\n",
    ":::"
   ]
  },
  {
   "cell_type": "markdown",
   "id": "f510b5f5-577b-426d-a84a-b996a80d5623",
   "metadata": {},
   "source": [
    "# Basic Maths and Stats"
   ]
  },
  {
   "cell_type": "code",
   "execution_count": null,
   "id": "3e34b60e-2f55-46f4-a29e-4eb47ff1896d",
   "metadata": {},
   "outputs": [],
   "source": [
    "# E.g. example scaling \n",
    "\n",
    "lai_aoi * 0.0001 + 1500\n"
   ]
  },
  {
   "cell_type": "markdown",
   "id": "b7fa201c-58fa-4373-b6e8-f2d4c998f3c3",
   "metadata": {},
   "source": [
    "# Statistics and Aggregation\n",
    "Calculate simple statistics:\n"
   ]
  },
  {
   "cell_type": "code",
   "execution_count": null,
   "id": "5713787c-6424-4c67-bade-3bdefcbd7182",
   "metadata": {},
   "outputs": [],
   "source": [
    "lai_aoi.min()\n",
    "lai_aoi.max()\n",
    "lai_aoi.mean()"
   ]
  },
  {
   "cell_type": "markdown",
   "id": "5231537b-3f9b-4083-abc7-38641331bc3e",
   "metadata": {},
   "source": [
    "Aggregate by month if the dataset spans multiple months:"
   ]
  },
  {
   "cell_type": "code",
   "execution_count": null,
   "id": "5ccffed4-9221-4210-9764-42a3a1e00e3f",
   "metadata": {},
   "outputs": [],
   "source": [
    "lai_monthly = lai_aoi.groupby(lai_aoi.time.dt.month).mean()\n",
    "lai_monthly"
   ]
  },
  {
   "cell_type": "markdown",
   "id": "79d963fc-c6ce-4dbb-b33e-acaa7dfe0cfb",
   "metadata": {},
   "source": [
    "## Masking\n",
    "\n",
    "Not all values are valid and masking all those which are not in the valid range is necessary. Masking can be achieved through the method `DataSet|Array.where(cond, other)` or `xr.where(cond, x, y)`.\n",
    "\n",
    "The difference consists in the possibility to specify the value in case the condition is positive or not; `DataSet|Array.where(cond, other)` only offer the possibility to define the false condition value (by default is set to np.NaN))"
   ]
  },
  {
   "cell_type": "code",
   "execution_count": null,
   "id": "59e04796-c268-486f-8a59-0ac440905df9",
   "metadata": {},
   "outputs": [],
   "source": [
    "\n",
    "lai_masked = lai_aoi.where((lai_aoi >= 1.5)) \n",
    "lai_masked"
   ]
  },
  {
   "cell_type": "code",
   "execution_count": null,
   "id": "2f31213a-ed82-40ee-b1c0-34ea62e9289f",
   "metadata": {},
   "outputs": [],
   "source": [
    "lai_masked.isel(time=0).plot(cmap='viridis')\n",
    "plt.title(\"Masked Leaf Area Index\")\n",
    "plt.show()\n"
   ]
  },
  {
   "cell_type": "code",
   "execution_count": null,
   "id": "3a25c99c-a2fd-4f78-8c22-d49b7e0c6bb5",
   "metadata": {},
   "outputs": [],
   "source": [
    "mask = xarray.where((lai_aoi > 1.5), 1, 0)\n",
    "mask.isel(time=0).plot()\n",
    "plt.title(\"Masked Leaf Area Index\")\n",
    "plt.show()\n"
   ]
  },
  {
   "cell_type": "markdown",
   "id": "6f413157-09b9-4740-afe1-477566404e64",
   "metadata": {},
   "source": [
    "<!-- By inspecting any of the variables on the representation above, you'll see that each data array represents __about 85GiB of data__, so much more than the availabe memory on this notebook server, and even on the Dask Cluster we created above. But thanks to chunking, we can still analyze it! -->"
   ]
  },
  {
   "cell_type": "code",
   "execution_count": null,
   "id": "4d975afa-00bf-4e9c-a500-d5a3895e5b33",
   "metadata": {},
   "outputs": [],
   "source": []
  }
 ],
 "metadata": {
  "kernelspec": {
   "display_name": "Python [conda env:micromamba-pangeo]",
   "language": "python",
   "name": "conda-env-micromamba-pangeo-py"
  },
  "language_info": {
   "codemirror_mode": {
    "name": "ipython",
    "version": 3
   },
   "file_extension": ".py",
   "mimetype": "text/x-python",
   "name": "python",
   "nbconvert_exporter": "python",
   "pygments_lexer": "ipython3",
   "version": "3.13.3"
  }
 },
 "nbformat": 4,
 "nbformat_minor": 5
}
